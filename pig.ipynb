{
 "cells": [
  {
   "cell_type": "code",
   "execution_count": 1,
   "metadata": {
    "collapsed": false
   },
   "outputs": [],
   "source": [
    "from strategies import simple_threshold, complex_threshold\n",
    "from pig import Pig\n",
    "from players import Player, SmartPlayer"
   ]
  },
  {
   "cell_type": "code",
   "execution_count": 2,
   "metadata": {
    "collapsed": false
   },
   "outputs": [],
   "source": [
    "pig = Pig(score_lim=100)\n",
    "player1 = Player(\"Random\")\n",
    "player2 = SmartPlayer(\"Gilgamesh\", simple_threshold(.5))\n",
    "pig.set_players(player1, player2)"
   ]
  },
  {
   "cell_type": "code",
   "execution_count": 3,
   "metadata": {
    "collapsed": true
   },
   "outputs": [],
   "source": [
    "def run_game(pig, num):\n",
    "    for _ in range(num):\n",
    "        pig.loop()\n",
    "        pig.new_game()"
   ]
  },
  {
   "cell_type": "code",
   "execution_count": 4,
   "metadata": {
    "collapsed": false
   },
   "outputs": [],
   "source": [
    "run_game(pig, 100)"
   ]
  },
  {
   "cell_type": "code",
   "execution_count": 5,
   "metadata": {
    "collapsed": false
   },
   "outputs": [
    {
     "name": "stdout",
     "output_type": "stream",
     "text": [
      "Random won 0\n",
      "Gilgamesh won 100\n"
     ]
    }
   ],
   "source": [
    "def winnings(pig):\n",
    "    for player in pig.players:\n",
    "        print(\"{} won {}\".format(player.name, player.wins))\n",
    "        \n",
    "winnings(pig) # Gilgamesh wins every time"
   ]
  },
  {
   "cell_type": "code",
   "execution_count": 6,
   "metadata": {
    "collapsed": false
   },
   "outputs": [],
   "source": [
    "pig.clear_players()\n",
    "players = [\"simple\", \"simple\"]\n",
    "thresholds = [.5, .5]\n",
    "pig.create_players(players, thresholds)"
   ]
  },
  {
   "cell_type": "code",
   "execution_count": 7,
   "metadata": {
    "collapsed": false
   },
   "outputs": [],
   "source": [
    "run_game(pig, 100)"
   ]
  },
  {
   "cell_type": "code",
   "execution_count": 8,
   "metadata": {
    "collapsed": false
   },
   "outputs": [
    {
     "name": "stdout",
     "output_type": "stream",
     "text": [
      "Gilgamesh 110 won 50\n",
      "Gilgamesh 81 won 50\n"
     ]
    }
   ],
   "source": [
    "winnings(pig)"
   ]
  },
  {
   "cell_type": "code",
   "execution_count": 12,
   "metadata": {
    "collapsed": false
   },
   "outputs": [],
   "source": [
    "pig.clear_players()\n",
    "players = [\"simple\", \"complex\"]\n",
    "thresholds = [.5, .5]\n",
    "pig.create_players(players, thresholds)\n"
   ]
  },
  {
   "cell_type": "code",
   "execution_count": 13,
   "metadata": {
    "collapsed": false
   },
   "outputs": [],
   "source": [
    "run_game(pig, 100)"
   ]
  },
  {
   "cell_type": "code",
   "execution_count": 14,
   "metadata": {
    "collapsed": false
   },
   "outputs": [
    {
     "name": "stdout",
     "output_type": "stream",
     "text": [
      "Gilgamesh 57 won 66\n",
      "Jean-Luc Picard 50 won 34\n"
     ]
    }
   ],
   "source": [
    "winnings(pig)"
   ]
  },
  {
   "cell_type": "code",
   "execution_count": null,
   "metadata": {
    "collapsed": true
   },
   "outputs": [],
   "source": []
  }
 ],
 "metadata": {
  "kernelspec": {
   "display_name": "Python 3",
   "language": "python",
   "name": "python3"
  },
  "language_info": {
   "codemirror_mode": {
    "name": "ipython",
    "version": 3
   },
   "file_extension": ".py",
   "mimetype": "text/x-python",
   "name": "python",
   "nbconvert_exporter": "python",
   "pygments_lexer": "ipython3",
   "version": "3.4.3"
  }
 },
 "nbformat": 4,
 "nbformat_minor": 0
}
